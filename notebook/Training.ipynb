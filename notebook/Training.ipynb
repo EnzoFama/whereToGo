{
  "nbformat": 4,
  "nbformat_minor": 0,
  "metadata": {
    "accelerator": "GPU",
    "colab": {
      "name": "Training_Vincenzo.ipynb",
      "provenance": [],
      "collapsed_sections": [],
      "toc_visible": true
    },
    "kernelspec": {
      "display_name": "Python 3",
      "name": "python3"
    },
    "language_info": {
      "name": "python"
    }
  },
  "cells": [
    {
      "cell_type": "markdown",
      "metadata": {
        "id": "7mGmQbAO5pQb"
      },
      "source": [
        "# Setup\n",
        "\n",
        "Clone repo, install dependencies and check PyTorch and GPU."
      ]
    },
    {
      "cell_type": "code",
      "metadata": {
        "colab": {
          "base_uri": "https://localhost:8080/"
        },
        "id": "wbvMlHd_QwMG",
        "outputId": "be39f40e-6865-4601-8fd2-41a5d3b27271"
      },
      "source": [
        "!git clone https://github.com/ultralytics/yolov5  # clone repo\n",
        "%cd yolov5\n",
        "%pip install -qr requirements.txt  # install dependencies\n",
        "\n",
        "import torch\n",
        "from IPython.display import Image, clear_output  # to display images\n",
        "\n",
        "clear_output()\n",
        "print('Setup complete. Using torch %s %s' % (torch.__version__, torch.cuda.get_device_properties(0) if torch.cuda.is_available() else 'CPU'))\n",
        "\n",
        "%cd .."
      ],
      "execution_count": null,
      "outputs": [
        {
          "output_type": "stream",
          "text": [
            "Setup complete. Using torch 1.8.1+cu101 _CudaDeviceProperties(name='Tesla T4', major=7, minor=5, total_memory=15109MB, multi_processor_count=40)\n",
            "/content\n"
          ],
          "name": "stdout"
        }
      ]
    },
    {
      "cell_type": "code",
      "metadata": {
        "colab": {
          "base_uri": "https://localhost:8080/"
        },
        "id": "K1i1RP5GC0Ey",
        "outputId": "8b79aac5-3098-4de4-f074-d0ea29f8d10e"
      },
      "source": [
        "%%shell\n",
        "sed -i 's/nc: 80/nc: 2/g' yolov5/models/yolov5s.yaml\n",
        "cat yolov5/models/yolov5s.yaml"
      ],
      "execution_count": null,
      "outputs": [
        {
          "output_type": "stream",
          "text": [
            "# parameters\n",
            "nc: 4  # number of classes\n",
            "depth_multiple: 0.33  # model depth multiple\n",
            "width_multiple: 0.50  # layer channel multiple\n",
            "\n",
            "# anchors\n",
            "anchors:\n",
            "  - [10,13, 16,30, 33,23]  # P3/8\n",
            "  - [30,61, 62,45, 59,119]  # P4/16\n",
            "  - [116,90, 156,198, 373,326]  # P5/32\n",
            "\n",
            "# YOLOv5 backbone\n",
            "backbone:\n",
            "  # [from, number, module, args]\n",
            "  [[-1, 1, Focus, [64, 3]],  # 0-P1/2\n",
            "   [-1, 1, Conv, [128, 3, 2]],  # 1-P2/4\n",
            "   [-1, 3, C3, [128]],\n",
            "   [-1, 1, Conv, [256, 3, 2]],  # 3-P3/8\n",
            "   [-1, 9, C3, [256]],\n",
            "   [-1, 1, Conv, [512, 3, 2]],  # 5-P4/16\n",
            "   [-1, 9, C3, [512]],\n",
            "   [-1, 1, Conv, [1024, 3, 2]],  # 7-P5/32\n",
            "   [-1, 1, SPP, [1024, [5, 9, 13]]],\n",
            "   [-1, 3, C3, [1024, False]],  # 9\n",
            "  ]\n",
            "\n",
            "# YOLOv5 head\n",
            "head:\n",
            "  [[-1, 1, Conv, [512, 1, 1]],\n",
            "   [-1, 1, nn.Upsample, [None, 2, 'nearest']],\n",
            "   [[-1, 6], 1, Concat, [1]],  # cat backbone P4\n",
            "   [-1, 3, C3, [512, False]],  # 13\n",
            "\n",
            "   [-1, 1, Conv, [256, 1, 1]],\n",
            "   [-1, 1, nn.Upsample, [None, 2, 'nearest']],\n",
            "   [[-1, 4], 1, Concat, [1]],  # cat backbone P3\n",
            "   [-1, 3, C3, [256, False]],  # 17 (P3/8-small)\n",
            "\n",
            "   [-1, 1, Conv, [256, 3, 2]],\n",
            "   [[-1, 14], 1, Concat, [1]],  # cat head P4\n",
            "   [-1, 3, C3, [512, False]],  # 20 (P4/16-medium)\n",
            "\n",
            "   [-1, 1, Conv, [512, 3, 2]],\n",
            "   [[-1, 10], 1, Concat, [1]],  # cat head P5\n",
            "   [-1, 3, C3, [1024, False]],  # 23 (P5/32-large)\n",
            "\n",
            "   [[17, 20, 23], 1, Detect, [nc, anchors]],  # Detect(P3, P4, P5)\n",
            "  ]\n"
          ],
          "name": "stdout"
        },
        {
          "output_type": "execute_result",
          "data": {
            "text/plain": [
              ""
            ]
          },
          "metadata": {
            "tags": []
          },
          "execution_count": 2
        }
      ]
    },
    {
      "cell_type": "markdown",
      "metadata": {
        "id": "VUOiNLtMP5aG"
      },
      "source": [
        "# 1. Train\n"
      ]
    },
    {
      "cell_type": "markdown",
      "metadata": {
        "id": "dz5PAJM5C433"
      },
      "source": [
        "Run the following code if you wanna mount your Google drive repository and load your dataset. You can uncomment others code lines if you want respectively load your dataset from generic URL or Git"
      ]
    },
    {
      "cell_type": "code",
      "metadata": {
        "colab": {
          "base_uri": "https://localhost:8080/"
        },
        "id": "087bqcc-UHkC",
        "outputId": "258f6aec-1b2e-4bf1-a7b9-8df991b52254"
      },
      "source": [
        "#Mount drive repository\n",
        "from google.colab import drive\n",
        "drive.mount('/content/drive')\n"
      ],
      "execution_count": null,
      "outputs": [
        {
          "output_type": "stream",
          "text": [
            "Mounted at /content/drive\n"
          ],
          "name": "stdout"
        }
      ]
    },
    {
      "cell_type": "code",
      "metadata": {
        "id": "efBjJvPSFS7R"
      },
      "source": [
        "!ls drive/MyDrive"
      ],
      "execution_count": null,
      "outputs": []
    },
    {
      "cell_type": "markdown",
      "metadata": {
        "id": "-JLTxStr0JJQ"
      },
      "source": [
        "**Define variables**"
      ]
    },
    {
      "cell_type": "code",
      "metadata": {
        "colab": {
          "base_uri": "https://localhost:8080/"
        },
        "id": "g8S0Kal4zpF6",
        "outputId": "3fbc6ec7-90d5-4922-aa60-154a435b3cf7"
      },
      "source": [
        "%env DATASET=GIT_wfilters\n",
        "%env VERS=1.0\n",
        "%env ZIP=GIT_wfilters.zip\n",
        "%env SET=b32i640\n",
        "%env ISIZE=640"
      ],
      "execution_count": null,
      "outputs": [
        {
          "output_type": "stream",
          "text": [
            "env: DATASET=GIT_wfilters\n",
            "env: VERS=1.0\n",
            "env: ZIP=GIT_wfilters.zip\n",
            "env: SET=b32i640\n",
            "env: ISIZE=640\n"
          ],
          "name": "stdout"
        }
      ]
    },
    {
      "cell_type": "code",
      "metadata": {
        "colab": {
          "base_uri": "https://localhost:8080/"
        },
        "id": "Knxi2ncxWffW",
        "outputId": "6ff06d9d-3697-471b-9f48-dd04758e6a32"
      },
      "source": [
        "%%shell\n",
        "unzip -q /content/drive/MyDrive/SistemiDigitali/Datasets/\"$ZIP\" -d /content\n",
        "echo \"Done.\""
      ],
      "execution_count": null,
      "outputs": [
        {
          "output_type": "stream",
          "text": [
            "Done.\n"
          ],
          "name": "stdout"
        },
        {
          "output_type": "execute_result",
          "data": {
            "text/plain": [
              ""
            ]
          },
          "metadata": {
            "tags": []
          },
          "execution_count": 5
        }
      ]
    },
    {
      "cell_type": "code",
      "metadata": {
        "colab": {
          "base_uri": "https://localhost:8080/"
        },
        "id": "RaddypLvmpY2",
        "outputId": "46bebeca-5d77-4f27-91d2-413b4ae4decd"
      },
      "source": [
        "%%shell\n",
        "echo \"Reduced_DT contains:\"\n",
        "echo \"- Train images:\"\n",
        "ls \"$DATASET\"/train/images | wc -w\n",
        "\n",
        "echo \"- Test images:\"\n",
        "ls \"$DATASET\"/test/images | wc -w\n",
        "\n",
        "echo \"- Validation images:\"\n",
        "ls \"$DATASET\"/val/images | wc -w"
      ],
      "execution_count": null,
      "outputs": [
        {
          "output_type": "stream",
          "text": [
            "Reduced_DT contains:\n",
            "- Train images:\n",
            "3396\n",
            "- Test images:\n",
            "724\n",
            "- Validation images:\n",
            "724\n"
          ],
          "name": "stdout"
        },
        {
          "output_type": "execute_result",
          "data": {
            "text/plain": [
              ""
            ]
          },
          "metadata": {
            "tags": []
          },
          "execution_count": 6
        }
      ]
    },
    {
      "cell_type": "markdown",
      "metadata": {
        "id": "MdskaaSe19_0"
      },
      "source": [
        "**Wandb**"
      ]
    },
    {
      "cell_type": "code",
      "metadata": {
        "colab": {
          "base_uri": "https://localhost:8080/"
        },
        "id": "O5YmvGMmWWvi",
        "outputId": "a923e475-777a-49e7-fdc6-e9b1c3f91478"
      },
      "source": [
        "%pip install -q wandb  \n",
        "import wandb\n",
        "!wandb login --relogin\n",
        "\n",
        "#For python\n",
        "#wandb.init(entity='eev')\n",
        "#name=\"dt_name\"\n",
        "#wandb.init(entity='eev',project=\"YOLOv5\", name=name)"
      ],
      "execution_count": null,
      "outputs": [
        {
          "output_type": "stream",
          "text": [
            "\u001b[K     |████████████████████████████████| 2.1MB 8.4MB/s \n",
            "\u001b[K     |████████████████████████████████| 133kB 35.9MB/s \n",
            "\u001b[K     |████████████████████████████████| 102kB 12.0MB/s \n",
            "\u001b[K     |████████████████████████████████| 163kB 38.2MB/s \n",
            "\u001b[K     |████████████████████████████████| 71kB 10.7MB/s \n",
            "\u001b[?25h  Building wheel for pathtools (setup.py) ... \u001b[?25l\u001b[?25hdone\n",
            "  Building wheel for subprocess32 (setup.py) ... \u001b[?25l\u001b[?25hdone\n",
            "\u001b[34m\u001b[1mwandb\u001b[0m: You can find your API key in your browser here: https://wandb.ai/authorize\n",
            "\u001b[34m\u001b[1mwandb\u001b[0m: Paste an API key from your profile and hit enter: \n",
            "\u001b[34m\u001b[1mwandb\u001b[0m: Appending key for api.wandb.ai to your netrc file: /root/.netrc\n"
          ],
          "name": "stdout"
        }
      ]
    },
    {
      "cell_type": "markdown",
      "metadata": {
        "id": "e8Zz6ifh_puG"
      },
      "source": [
        "#**File yaml for training set up**\n",
        "In the following section you can create your configuration file yaml to set up the training."
      ]
    },
    {
      "cell_type": "markdown",
      "metadata": {
        "id": "STGrp_qHv97v"
      },
      "source": [
        "Correct format for data.yaml config file"
      ]
    },
    {
      "cell_type": "code",
      "metadata": {
        "id": "x7l5Wftwl3ND"
      },
      "source": [
        "# NOT RUNNABLE\n",
        "train: ./dataset/train/images\n",
        "val: ./dataset/valid/images\n",
        "test: ./dataset/test/images\n",
        "\n",
        "nc: 4\n",
        "names: ['doors', 'handle', 'cabinet door', 'refrigerator door']"
      ],
      "execution_count": null,
      "outputs": []
    },
    {
      "cell_type": "code",
      "metadata": {
        "colab": {
          "base_uri": "https://localhost:8080/"
        },
        "id": "9rdzOPzNAK0C",
        "outputId": "f63054bb-713a-4179-9eda-e7d1ea43c829"
      },
      "source": [
        "%%shell\n",
        "#git\n",
        "echo train: /content/\"$DATASET\"/train/images > /content/\"$DATASET\"/data.yaml\n",
        "echo val: /content/\"$DATASET\"/val/images >> /content/\"$DATASET\"/data.yaml\n",
        "echo test: /content/\"$DATASET\"/test/images >> /content/\"$DATASET\"/data.yaml\n",
        "echo \"\"\n",
        "echo nc: 4 >> /content/\"$DATASET\"/data.yaml\n",
        "echo names: ['doors', 'handle', 'cabinet door', 'refrigerator door'] >> /content/\"$DATASET\"/data.yaml"
      ],
      "execution_count": null,
      "outputs": [
        {
          "output_type": "stream",
          "text": [
            "\n"
          ],
          "name": "stdout"
        },
        {
          "output_type": "execute_result",
          "data": {
            "text/plain": [
              ""
            ]
          },
          "metadata": {
            "tags": []
          },
          "execution_count": 8
        }
      ]
    },
    {
      "cell_type": "code",
      "metadata": {
        "colab": {
          "base_uri": "https://localhost:8080/"
        },
        "id": "rlq2Fo2wspcS",
        "outputId": "7cb339d3-9170-4d09-966b-17add67fefb9"
      },
      "source": [
        "%%shell\n",
        "#custom\n",
        "echo train: /content/\"$DATASET\"/train/images > /content/\"$DATASET\"/data.yaml\n",
        "echo val: /content/\"$DATASET\"/val/images >> /content/\"$DATASET\"/data.yaml\n",
        "echo test: /content/\"$DATASET\"/test/images >> /content/\"$DATASET\"/data.yaml\n",
        "echo \"\"\n",
        "echo nc: 2 >> /content/\"$DATASET\"/data.yaml\n",
        "echo names: ['doors', 'handle'] >> /content/\"$DATASET\"/data.yaml"
      ],
      "execution_count": null,
      "outputs": [
        {
          "output_type": "stream",
          "text": [
            "\n"
          ],
          "name": "stdout"
        },
        {
          "output_type": "execute_result",
          "data": {
            "text/plain": [
              ""
            ]
          },
          "metadata": {
            "tags": []
          },
          "execution_count": 8
        }
      ]
    },
    {
      "cell_type": "code",
      "metadata": {
        "colab": {
          "base_uri": "https://localhost:8080/"
        },
        "id": "VrZM-VoNAZXv",
        "outputId": "ed3a852a-1a23-4dbd-e8a3-8eb091a7990e"
      },
      "source": [
        "!cat \"$DATASET\"/data.yaml"
      ],
      "execution_count": null,
      "outputs": [
        {
          "output_type": "stream",
          "text": [
            "train: /content/GIT_wfilters/train/images\n",
            "val: /content/GIT_wfilters/val/images\n",
            "test: /content/GIT_wfilters/test/images\n",
            "nc: 4\n",
            "names: [doors, handle, cabinet door, refrigerator door]\n"
          ],
          "name": "stdout"
        }
      ]
    },
    {
      "cell_type": "markdown",
      "metadata": {
        "id": "Qo5KEyYeCTiy"
      },
      "source": [
        "Train:"
      ]
    },
    {
      "cell_type": "code",
      "metadata": {
        "colab": {
          "base_uri": "https://localhost:8080/"
        },
        "id": "1NcFxRcFdJ_O",
        "outputId": "a8bf454c-0152-4d71-e3d3-02e58ec91912"
      },
      "source": [
        "%%shell\n",
        "#NAME=$DATASET_b32i320_settings\n",
        "\n",
        "#redundant variables\n",
        "NAME=$DATASET\n",
        "NAME=\"$NAME\"_\"$SET\"\n",
        "\n",
        "cd /content/yolov5\n",
        "\n",
        "python train.py --img \"$ISIZE\" --batch 32 --epochs 250 --data /content/\"$DATASET\"/data.yaml --weights '' --cfg models/yolov5s.yaml --cache-images --entity 'eev' --project 'YOLOv5' --name \"$NAME\""
      ],
      "execution_count": null,
      "outputs": [
        {
          "output_type": "stream",
          "text": [
            "\u001b[34m\u001b[1mgithub: \u001b[0mup to date with https://github.com/ultralytics/yolov5 ✅\n",
            "YOLOv5 🚀 v5.0-59-g31ee54c torch 1.8.1+cu101 CUDA:0 (Tesla T4, 15109.75MB)\n",
            "\n",
            "Namespace(adam=False, artifact_alias='latest', batch_size=32, bbox_interval=-1, bucket='', cache_images=True, cfg='models/yolov5s.yaml', data='/content/GIT_wfilters/data.yaml', device='', entity='eev', epochs=250, evolve=False, exist_ok=False, global_rank=-1, hyp='data/hyp.scratch.yaml', image_weights=False, img_size=[640, 640], label_smoothing=0.0, linear_lr=False, local_rank=-1, multi_scale=False, name='GIT_wfilters_b32i640', noautoanchor=False, nosave=False, notest=False, project='YOLOv5', quad=False, rect=False, resume=False, save_dir='YOLOv5/GIT_wfilters_b32i640', save_period=-1, single_cls=False, sync_bn=False, total_batch_size=32, upload_dataset=False, weights='', workers=8, world_size=1)\n",
            "\u001b[34m\u001b[1mtensorboard: \u001b[0mStart with 'tensorboard --logdir YOLOv5', view at http://localhost:6006/\n",
            "2021-05-02 14:42:50.700082: I tensorflow/stream_executor/platform/default/dso_loader.cc:49] Successfully opened dynamic library libcudart.so.11.0\n",
            "\u001b[34m\u001b[1mhyperparameters: \u001b[0mlr0=0.01, lrf=0.2, momentum=0.937, weight_decay=0.0005, warmup_epochs=3.0, warmup_momentum=0.8, warmup_bias_lr=0.1, box=0.05, cls=0.5, cls_pw=1.0, obj=1.0, obj_pw=1.0, iou_t=0.2, anchor_t=4.0, fl_gamma=0.0, hsv_h=0.015, hsv_s=0.7, hsv_v=0.4, degrees=0.0, translate=0.1, scale=0.5, shear=0.0, perspective=0.0, flipud=0.0, fliplr=0.5, mosaic=1.0, mixup=0.0\n",
            "\u001b[34m\u001b[1mwandb\u001b[0m: Currently logged in as: \u001b[33meev\u001b[0m (use `wandb login --relogin` to force relogin)\n",
            "2021-05-02 14:42:52.859058: I tensorflow/stream_executor/platform/default/dso_loader.cc:49] Successfully opened dynamic library libcudart.so.11.0\n",
            "\u001b[34m\u001b[1mwandb\u001b[0m: Tracking run with wandb version 0.10.28\n",
            "\u001b[34m\u001b[1mwandb\u001b[0m: Syncing run \u001b[33mGIT_wfilters_b32i640\u001b[0m\n",
            "\u001b[34m\u001b[1mwandb\u001b[0m: ⭐️ View project at \u001b[34m\u001b[4mhttps://wandb.ai/eev/YOLOv5\u001b[0m\n",
            "\u001b[34m\u001b[1mwandb\u001b[0m: 🚀 View run at \u001b[34m\u001b[4mhttps://wandb.ai/eev/YOLOv5/runs/1slvjz5o\u001b[0m\n",
            "\u001b[34m\u001b[1mwandb\u001b[0m: Run data is saved locally in /content/yolov5/wandb/run-20210502_144251-1slvjz5o\n",
            "\u001b[34m\u001b[1mwandb\u001b[0m: Run `wandb offline` to turn off syncing.\n",
            "\n",
            "\n",
            "                 from  n    params  module                                  arguments                     \n",
            "  0                -1  1      3520  models.common.Focus                     [3, 32, 3]                    \n",
            "  1                -1  1     18560  models.common.Conv                      [32, 64, 3, 2]                \n",
            "  2                -1  1     18816  models.common.C3                        [64, 64, 1]                   \n",
            "  3                -1  1     73984  models.common.Conv                      [64, 128, 3, 2]               \n",
            "  4                -1  1    156928  models.common.C3                        [128, 128, 3]                 \n",
            "  5                -1  1    295424  models.common.Conv                      [128, 256, 3, 2]              \n",
            "  6                -1  1    625152  models.common.C3                        [256, 256, 3]                 \n",
            "  7                -1  1   1180672  models.common.Conv                      [256, 512, 3, 2]              \n",
            "  8                -1  1    656896  models.common.SPP                       [512, 512, [5, 9, 13]]        \n",
            "  9                -1  1   1182720  models.common.C3                        [512, 512, 1, False]          \n",
            " 10                -1  1    131584  models.common.Conv                      [512, 256, 1, 1]              \n",
            " 11                -1  1         0  torch.nn.modules.upsampling.Upsample    [None, 2, 'nearest']          \n",
            " 12           [-1, 6]  1         0  models.common.Concat                    [1]                           \n",
            " 13                -1  1    361984  models.common.C3                        [512, 256, 1, False]          \n",
            " 14                -1  1     33024  models.common.Conv                      [256, 128, 1, 1]              \n",
            " 15                -1  1         0  torch.nn.modules.upsampling.Upsample    [None, 2, 'nearest']          \n",
            " 16           [-1, 4]  1         0  models.common.Concat                    [1]                           \n",
            " 17                -1  1     90880  models.common.C3                        [256, 128, 1, False]          \n",
            " 18                -1  1    147712  models.common.Conv                      [128, 128, 3, 2]              \n",
            " 19          [-1, 14]  1         0  models.common.Concat                    [1]                           \n",
            " 20                -1  1    296448  models.common.C3                        [256, 256, 1, False]          \n",
            " 21                -1  1    590336  models.common.Conv                      [256, 256, 3, 2]              \n",
            " 22          [-1, 10]  1         0  models.common.Concat                    [1]                           \n",
            " 23                -1  1   1182720  models.common.C3                        [512, 512, 1, False]          \n",
            " 24      [17, 20, 23]  1     24273  models.yolo.Detect                      [4, [[10, 13, 16, 30, 33, 23], [30, 61, 62, 45, 59, 119], [116, 90, 156, 198, 373, 326]], [128, 256, 512]]\n",
            "Model Summary: 283 layers, 7071633 parameters, 7071633 gradients, 16.4 GFLOPS\n",
            "\n",
            "Scaled weight_decay = 0.0005\n",
            "Optimizer groups: 62 .bias, 62 conv.weight, 59 other\n",
            "\u001b[34m\u001b[1mtrain: \u001b[0mScanning '/content/GIT_wfilters/train/labels' images and labels... 3396 f\u001b[0m\n",
            "\u001b[34m\u001b[1mtrain: \u001b[0mNew cache created: /content/GIT_wfilters/train/labels.cache\n",
            "\u001b[34m\u001b[1mtrain: \u001b[0mCaching images (3.1GB): 100%|████████| 3396/3396 [00:56<00:00, 60.60it/s]\u001b[0m\n",
            "\u001b[34m\u001b[1mval: \u001b[0mScanning '/content/GIT_wfilters/val/labels' images and labels... 724 found,\u001b[0m\n",
            "\u001b[34m\u001b[1mval: \u001b[0mNew cache created: /content/GIT_wfilters/val/labels.cache\n",
            "\u001b[34m\u001b[1mval: \u001b[0mCaching images (0.6GB): 100%|████████████| 724/724 [00:35<00:00, 20.48it/s]\u001b[0m\n",
            "Plotting labels... \n",
            "\n",
            "\u001b[34m\u001b[1mautoanchor: \u001b[0mAnalyzing anchors... anchors/target = 4.31, Best Possible Recall (BPR) = 0.9978\n",
            "Image sizes 640 train, 640 test\n",
            "Using 2 dataloader workers\n",
            "Logging results to YOLOv5/GIT_wfilters_b32i640\n",
            "Starting training for 250 epochs...\n",
            "\n",
            "     Epoch   gpu_mem       box       obj       cls     total    labels  img_size\n",
            "     0/249     5.19G    0.1053   0.08324   0.03975    0.2283        65       640\n",
            "               Class      Images      Labels           P           R      mAP@.5\n",
            "                 all         724        5220    0.000693      0.0616      0.0002    2.73e-05\n",
            "Images sizes do not match. This will causes images to be display incorrectly in the UI.\n",
            "\n",
            "     Epoch   gpu_mem       box       obj       cls     total    labels  img_size\n",
            "     1/249     5.75G    0.1026   0.08514   0.03455    0.2223        58       640\n",
            "               Class      Images      Labels           P           R      mAP@.5\n",
            "                 all         724        5220     0.00127      0.0594    0.000174     2.5e-05\n",
            "\n",
            "     Epoch   gpu_mem       box       obj       cls     total    labels  img_size\n",
            "     2/249     5.75G    0.1024    0.0842   0.03335    0.2199        46       640\n",
            "               Class      Images      Labels           P           R      mAP@.5\n",
            "                 all         724        5220     0.00143     0.00356    0.000325    0.000111\n",
            "\n",
            "     Epoch   gpu_mem       box       obj       cls     total    labels  img_size\n",
            "     3/249     5.75G    0.1012   0.08751   0.03259    0.2213       106       640\n",
            "               Class      Images      Labels           P           R      mAP@.5\n",
            "                 all         724        5220      0.0015     0.00857    0.000257    3.91e-05\n",
            "\n",
            "     Epoch   gpu_mem       box       obj       cls     total    labels  img_size\n",
            "     4/249     5.75G   0.09702   0.09177   0.03163    0.2204       102       640\n",
            "               Class      Images      Labels           P           R      mAP@.5\n",
            "                 all         724        5220      0.0115      0.0145     0.00235    0.000408\n",
            "\n",
            "     Epoch   gpu_mem       box       obj       cls     total    labels  img_size\n",
            "     5/249     5.75G   0.09001   0.09227   0.03019    0.2125        28       640\n",
            "               Class      Images      Labels           P           R      mAP@.5\n",
            "                 all         724        5220      0.0719      0.0939      0.0285     0.00679\n",
            "\n",
            "     Epoch   gpu_mem       box       obj       cls     total    labels  img_size\n",
            "     6/249     5.75G   0.08377   0.09058   0.02751    0.2019        53       640\n",
            "               Class      Images      Labels           P           R      mAP@.5\n",
            "                 all         724        5220        0.11       0.176      0.0668      0.0199\n",
            "\n",
            "     Epoch   gpu_mem       box       obj       cls     total    labels  img_size\n",
            "     7/249     5.75G   0.07834   0.08808   0.02519    0.1916        38       640\n",
            "               Class      Images      Labels           P           R      mAP@.5\n",
            "                 all         724        5220       0.131       0.286       0.116      0.0353\n",
            "\n",
            "     Epoch   gpu_mem       box       obj       cls     total    labels  img_size\n",
            "     8/249     5.75G   0.07528   0.08575   0.02357    0.1846        79       640\n",
            "               Class      Images      Labels           P           R      mAP@.5\n",
            "                 all         724        5220       0.158        0.27        0.11      0.0307\n",
            "\n",
            "     Epoch   gpu_mem       box       obj       cls     total    labels  img_size\n",
            "     9/249     5.75G   0.07237   0.08331    0.0224    0.1781        28       640\n",
            "               Class      Images      Labels           P           R      mAP@.5\n",
            "                 all         724        5220       0.237       0.332        0.21      0.0832\n",
            "\n",
            "     Epoch   gpu_mem       box       obj       cls     total    labels  img_size\n",
            "    10/249     5.75G   0.06926   0.08245    0.0208    0.1725        77       640\n",
            "               Class      Images      Labels           P           R      mAP@.5\n",
            "                 all         724        5220       0.395       0.435       0.346       0.144\n",
            "\n",
            "     Epoch   gpu_mem       box       obj       cls     total    labels  img_size\n",
            "    11/249     5.75G    0.0676   0.08032   0.01954    0.1675        75       640\n",
            "               Class      Images      Labels           P           R      mAP@.5\n",
            "                 all         724        5220       0.539       0.456       0.451       0.201\n",
            "\n",
            "     Epoch   gpu_mem       box       obj       cls     total    labels  img_size\n",
            "    12/249     5.75G   0.06589   0.07898   0.01832    0.1632        40       640\n",
            "               Class      Images      Labels           P           R      mAP@.5\n",
            "                 all         724        5220       0.447        0.54       0.449       0.206\n",
            "\n",
            "     Epoch   gpu_mem       box       obj       cls     total    labels  img_size\n",
            "    13/249     5.75G   0.06465   0.07714    0.0174    0.1592        51       640\n",
            "               Class      Images      Labels           P           R      mAP@.5\n",
            "                 all         724        5220        0.51       0.573       0.556       0.262\n",
            "\n",
            "     Epoch   gpu_mem       box       obj       cls     total    labels  img_size\n",
            "    14/249     5.75G   0.06379   0.07689   0.01674    0.1574        46       640\n",
            "               Class      Images      Labels           P           R      mAP@.5\n",
            "                 all         724        5220        0.63       0.567       0.587       0.291\n",
            "\n",
            "     Epoch   gpu_mem       box       obj       cls     total    labels  img_size\n",
            "    15/249     5.75G   0.06196   0.07607   0.01603    0.1541        76       640\n",
            "               Class      Images      Labels           P           R      mAP@.5\n",
            "                 all         724        5220       0.695       0.567       0.623        0.32\n",
            "\n",
            "     Epoch   gpu_mem       box       obj       cls     total    labels  img_size\n",
            "    16/249     5.75G   0.06119   0.07512   0.01526    0.1516        50       640\n",
            "               Class      Images      Labels           P           R      mAP@.5\n",
            "                 all         724        5220       0.747       0.565        0.66       0.347\n",
            "\n",
            "     Epoch   gpu_mem       box       obj       cls     total    labels  img_size\n",
            "    17/249     5.75G   0.06061   0.07393   0.01448     0.149       105       640\n",
            "               Class      Images      Labels           P           R      mAP@.5\n",
            "                 all         724        5220       0.731       0.593        0.66       0.348\n",
            "\n",
            "     Epoch   gpu_mem       box       obj       cls     total    labels  img_size\n",
            "    18/249     5.75G   0.05959    0.0721   0.01432     0.146        38       640\n",
            "               Class      Images      Labels           P           R      mAP@.5\n",
            "                 all         724        5220       0.745       0.584       0.673       0.355\n",
            "\n",
            "     Epoch   gpu_mem       box       obj       cls     total    labels  img_size\n",
            "    19/249     5.75G   0.05887   0.06979    0.0139    0.1426        72       640\n",
            "               Class      Images      Labels           P           R      mAP@.5\n",
            "                 all         724        5220       0.801       0.619       0.714        0.39\n",
            "\n",
            "     Epoch   gpu_mem       box       obj       cls     total    labels  img_size\n",
            "    20/249     5.75G   0.05842   0.07053   0.01341    0.1424        49       640\n",
            "               Class      Images      Labels           P           R      mAP@.5\n",
            "                 all         724        5220       0.707       0.647       0.691       0.365\n",
            "\n",
            "     Epoch   gpu_mem       box       obj       cls     total    labels  img_size\n",
            "    21/249     5.75G   0.05809   0.07047   0.01312    0.1417        99       640\n",
            "               Class      Images      Labels           P           R      mAP@.5\n",
            "                 all         724        5220       0.814       0.645       0.745       0.402\n",
            "\n",
            "     Epoch   gpu_mem       box       obj       cls     total    labels  img_size\n",
            "    22/249     5.75G   0.05722   0.06863   0.01275    0.1386        34       640\n",
            "               Class      Images      Labels           P           R      mAP@.5\n",
            "                 all         724        5220       0.802       0.632       0.736       0.412\n",
            "\n",
            "     Epoch   gpu_mem       box       obj       cls     total    labels  img_size\n",
            "    23/249     5.75G   0.05709    0.0704   0.01253      0.14        51       640\n",
            "               Class      Images      Labels           P           R      mAP@.5\n",
            "                 all         724        5220        0.82       0.668       0.752       0.433\n",
            "\n",
            "     Epoch   gpu_mem       box       obj       cls     total    labels  img_size\n",
            "    24/249     5.75G   0.05693   0.06858   0.01262    0.1381        39       640\n",
            "               Class      Images      Labels           P           R      mAP@.5\n",
            "                 all         724        5220       0.815       0.691       0.777       0.422\n",
            "\n",
            "     Epoch   gpu_mem       box       obj       cls     total    labels  img_size\n",
            "    25/249     5.75G   0.05599   0.06881   0.01234    0.1371        46       640\n",
            "               Class      Images      Labels           P           R      mAP@.5\n",
            "                 all         724        5220       0.815       0.683       0.779       0.436\n",
            "\n",
            "     Epoch   gpu_mem       box       obj       cls     total    labels  img_size\n",
            "    26/249     5.75G    0.0558   0.06809   0.01159    0.1355        48       640\n",
            "               Class      Images      Labels           P           R      mAP@.5\n",
            "                 all         724        5220       0.796       0.726       0.784       0.445\n",
            "\n",
            "     Epoch   gpu_mem       box       obj       cls     total    labels  img_size\n",
            "    27/249     5.75G    0.0553   0.06639   0.01166    0.1334        28       640\n",
            "               Class      Images      Labels           P           R      mAP@.5\n",
            "                 all         724        5220       0.834       0.708       0.801       0.443\n",
            "\n",
            "     Epoch   gpu_mem       box       obj       cls     total    labels  img_size\n",
            "    28/249     5.75G   0.05495    0.0657    0.0116    0.1323       106       640\n",
            "               Class      Images      Labels           P           R      mAP@.5\n",
            "                 all         724        5220       0.836       0.725        0.81       0.465\n",
            "\n",
            "     Epoch   gpu_mem       box       obj       cls     total    labels  img_size\n",
            "    29/249     5.75G    0.0545   0.06557   0.01127    0.1314        52       640\n",
            "               Class      Images      Labels           P           R      mAP@.5\n",
            "                 all         724        5220       0.845       0.717       0.806       0.466\n",
            "\n",
            "     Epoch   gpu_mem       box       obj       cls     total    labels  img_size\n",
            "    30/249     5.75G   0.05413   0.06525     0.011    0.1304        56       640\n",
            "               Class      Images      Labels           P           R      mAP@.5\n",
            "                 all         724        5220       0.861       0.735       0.824       0.483\n",
            "\n",
            "     Epoch   gpu_mem       box       obj       cls     total    labels  img_size\n",
            "    31/249     5.75G   0.05389   0.06301   0.01088    0.1278        66       640\n",
            "               Class      Images      Labels           P           R      mAP@.5\n",
            "                 all         724        5220       0.846       0.737       0.824       0.483\n",
            "\n",
            "     Epoch   gpu_mem       box       obj       cls     total    labels  img_size\n",
            "    32/249     5.75G   0.05375   0.06421   0.01061    0.1286        69       640\n",
            "               Class      Images      Labels           P           R      mAP@.5\n",
            "                 all         724        5220       0.827       0.732       0.816        0.47\n",
            "\n",
            "     Epoch   gpu_mem       box       obj       cls     total    labels  img_size\n",
            "    33/249     5.75G   0.05323   0.06294   0.01066    0.1268        34       640\n",
            "               Class      Images      Labels           P           R      mAP@.5\n",
            "                 all         724        5220       0.867        0.77       0.845       0.494\n",
            "\n",
            "     Epoch   gpu_mem       box       obj       cls     total    labels  img_size\n",
            "    34/249     5.75G   0.05312   0.06424   0.01037    0.1277        43       640\n",
            "               Class      Images      Labels           P           R      mAP@.5\n",
            "                 all         724        5220       0.862       0.783       0.857       0.505\n",
            "\n",
            "     Epoch   gpu_mem       box       obj       cls     total    labels  img_size\n",
            "    35/249     5.75G   0.05275   0.06278   0.01026    0.1258        65       640\n",
            "               Class      Images      Labels           P           R      mAP@.5\n",
            "                 all         724        5220       0.894       0.771       0.861       0.515\n",
            "\n",
            "     Epoch   gpu_mem       box       obj       cls     total    labels  img_size\n",
            "    36/249     5.75G   0.05273   0.06355   0.01013    0.1264        69       640\n",
            "               Class      Images      Labels           P           R      mAP@.5\n",
            "                 all         724        5220       0.863       0.773       0.858        0.52\n",
            "\n",
            "     Epoch   gpu_mem       box       obj       cls     total    labels  img_size\n",
            "    37/249     5.75G   0.05176   0.06209   0.00995    0.1238        59       640\n",
            "               Class      Images      Labels           P           R      mAP@.5\n",
            "                 all         724        5220       0.867       0.774       0.852       0.511\n",
            "\n",
            "     Epoch   gpu_mem       box       obj       cls     total    labels  img_size\n",
            "    38/249     5.75G   0.05153   0.06254  0.009881    0.1239        42       640\n",
            "               Class      Images      Labels           P           R      mAP@.5\n",
            "                 all         724        5220       0.894         0.8       0.879       0.529\n",
            "\n",
            "     Epoch   gpu_mem       box       obj       cls     total    labels  img_size\n",
            "    39/249     5.75G   0.05157   0.06192  0.009528     0.123        22       640\n",
            "               Class      Images      Labels           P           R      mAP@.5\n",
            "                 all         724        5220       0.888       0.788       0.874       0.528\n",
            "\n",
            "     Epoch   gpu_mem       box       obj       cls     total    labels  img_size\n",
            "    40/249     5.75G   0.05157    0.0615  0.009491    0.1226        64       640\n",
            "               Class      Images      Labels           P           R      mAP@.5\n",
            "                 all         724        5220       0.894       0.785       0.877       0.534\n",
            "\n",
            "     Epoch   gpu_mem       box       obj       cls     total    labels  img_size\n",
            "    41/249     5.75G   0.05125   0.06072  0.009576    0.1215        82       640\n",
            "               Class      Images      Labels           P           R      mAP@.5\n",
            "                 all         724        5220       0.889       0.813       0.887       0.541\n",
            "\n",
            "     Epoch   gpu_mem       box       obj       cls     total    labels  img_size\n",
            "    42/249     5.75G    0.0511    0.0602  0.009564    0.1209        60       640\n",
            "               Class      Images      Labels           P           R      mAP@.5\n",
            "                 all         724        5220       0.896       0.794        0.88       0.541\n",
            "\n",
            "     Epoch   gpu_mem       box       obj       cls     total    labels  img_size\n",
            "    43/249     5.75G   0.05076   0.05995  0.009198    0.1199        82       640\n",
            "               Class      Images      Labels           P           R      mAP@.5\n",
            "                 all         724        5220       0.897       0.833         0.9       0.553\n",
            "\n",
            "     Epoch   gpu_mem       box       obj       cls     total    labels  img_size\n",
            "    44/249     5.75G   0.05068   0.06025  0.009206    0.1201        61       640\n",
            "               Class      Images      Labels           P           R      mAP@.5\n",
            "                 all         724        5220       0.908       0.789        0.89       0.541\n",
            "\n",
            "     Epoch   gpu_mem       box       obj       cls     total    labels  img_size\n",
            "    45/249     5.75G   0.05059   0.06128  0.009104     0.121        65       640\n",
            "               Class      Images      Labels           P           R      mAP@.5\n",
            "                 all         724        5220       0.904       0.827       0.904       0.568\n",
            "\n",
            "     Epoch   gpu_mem       box       obj       cls     total    labels  img_size\n",
            "    46/249     5.75G   0.05008   0.05969  0.009011    0.1188        51       640\n",
            "               Class      Images      Labels           P           R      mAP@.5\n",
            "                 all         724        5220       0.926       0.795       0.898       0.554\n",
            "\n",
            "     Epoch   gpu_mem       box       obj       cls     total    labels  img_size\n",
            "    47/249     5.75G   0.05017   0.05882  0.008949    0.1179        37       640\n",
            "               Class      Images      Labels           P           R      mAP@.5\n",
            "                 all         724        5220         0.9       0.826       0.901       0.562\n",
            "\n",
            "     Epoch   gpu_mem       box       obj       cls     total    labels  img_size\n",
            "    48/249     5.75G    0.0494    0.0593  0.008907    0.1176        67       640\n",
            "               Class      Images      Labels           P           R      mAP@.5\n",
            "                 all         724        5220       0.907       0.847       0.913       0.566\n",
            "\n",
            "     Epoch   gpu_mem       box       obj       cls     total    labels  img_size\n",
            "    49/249     5.75G   0.04946   0.05949  0.008797    0.1177        52       640\n",
            "               Class      Images      Labels           P           R      mAP@.5\n",
            "                 all         724        5220       0.926       0.829       0.913       0.576\n",
            "\n",
            "     Epoch   gpu_mem       box       obj       cls     total    labels  img_size\n",
            "    50/249     5.75G   0.04899   0.05778   0.00881    0.1156        39       640\n",
            "               Class      Images      Labels           P           R      mAP@.5\n",
            "                 all         724        5220       0.925       0.826       0.914       0.582\n",
            "\n",
            "     Epoch   gpu_mem       box       obj       cls     total    labels  img_size\n",
            "    51/249     5.75G   0.04928   0.05745  0.008566    0.1153        35       640\n",
            "               Class      Images      Labels           P           R      mAP@.5\n",
            "                 all         724        5220       0.905       0.838       0.911       0.583\n",
            "\n",
            "     Epoch   gpu_mem       box       obj       cls     total    labels  img_size\n",
            "    52/249     5.75G   0.04848   0.05788  0.008369    0.1147        74       640\n",
            "               Class      Images      Labels           P           R      mAP@.5\n",
            "                 all         724        5220       0.921       0.854       0.922       0.593\n",
            "\n",
            "     Epoch   gpu_mem       box       obj       cls     total    labels  img_size\n",
            "    53/249     5.75G   0.04831   0.05784  0.008194    0.1143        50       640\n",
            "               Class      Images      Labels           P           R      mAP@.5\n",
            "                 all         724        5220       0.912       0.844       0.907        0.57\n",
            "\n",
            "     Epoch   gpu_mem       box       obj       cls     total    labels  img_size\n",
            "    54/249     5.76G   0.04833   0.05718  0.008196    0.1137        39       640\n",
            "               Class      Images      Labels           P           R      mAP@.5\n",
            "                 all         724        5220       0.951       0.833       0.922       0.589\n",
            "\n",
            "     Epoch   gpu_mem       box       obj       cls     total    labels  img_size\n",
            "    55/249     5.76G   0.04831   0.05697  0.008284    0.1136        96       640\n",
            "               Class      Images      Labels           P           R      mAP@.5\n",
            "                 all         724        5220       0.913       0.856       0.923       0.593\n",
            "\n",
            "     Epoch   gpu_mem       box       obj       cls     total    labels  img_size\n",
            "    56/249     5.76G   0.04812   0.05695  0.008199    0.1133        70       640\n",
            "               Class      Images      Labels           P           R      mAP@.5\n",
            "                 all         724        5220       0.893       0.878       0.922         0.6\n",
            "\n",
            "     Epoch   gpu_mem       box       obj       cls     total    labels  img_size\n",
            "    57/249     5.76G    0.0478   0.05584  0.008085    0.1117       100       640\n",
            "               Class      Images      Labels           P           R      mAP@.5\n",
            "                 all         724        5220       0.923       0.867       0.931       0.598\n",
            "\n",
            "     Epoch   gpu_mem       box       obj       cls     total    labels  img_size\n",
            "    58/249     5.76G   0.04778   0.05648  0.008054    0.1123        25       640\n",
            "               Class      Images      Labels           P           R      mAP@.5\n",
            "                 all         724        5220       0.927       0.871       0.927       0.602\n",
            "\n",
            "     Epoch   gpu_mem       box       obj       cls     total    labels  img_size\n",
            "    59/249     5.76G   0.04733   0.05645  0.007903    0.1117        48       640\n",
            "               Class      Images      Labels           P           R      mAP@.5\n",
            "                 all         724        5220       0.943       0.869       0.933       0.607\n",
            "\n",
            "     Epoch   gpu_mem       box       obj       cls     total    labels  img_size\n",
            "    60/249     5.76G   0.04755   0.05684   0.00795    0.1123       105       640\n",
            "               Class      Images      Labels           P           R      mAP@.5\n",
            "                 all         724        5220       0.915       0.877       0.933       0.603\n",
            "\n",
            "     Epoch   gpu_mem       box       obj       cls     total    labels  img_size\n",
            "    61/249     5.76G    0.0474   0.05627  0.007855    0.1115       111       640\n",
            "               Class      Images      Labels           P           R      mAP@.5\n",
            "                 all         724        5220        0.93       0.871       0.934       0.621\n",
            "\n",
            "     Epoch   gpu_mem       box       obj       cls     total    labels  img_size\n",
            "    62/249     5.76G   0.04728   0.05695  0.007711    0.1119        92       640\n",
            "               Class      Images      Labels           P           R      mAP@.5\n",
            "                 all         724        5220        0.94       0.873       0.938       0.619\n",
            "\n",
            "     Epoch   gpu_mem       box       obj       cls     total    labels  img_size\n",
            "    63/249     5.76G   0.04682   0.05497  0.007636    0.1094        60       640\n",
            "               Class      Images      Labels           P           R      mAP@.5\n",
            "                 all         724        5220       0.943       0.879        0.94       0.615\n",
            "\n",
            "     Epoch   gpu_mem       box       obj       cls     total    labels  img_size\n",
            "    64/249     5.76G   0.04685   0.05493  0.007809    0.1096        60       640\n",
            "               Class      Images      Labels           P           R      mAP@.5\n",
            "                 all         724        5220       0.943       0.876       0.939       0.615\n",
            "\n",
            "     Epoch   gpu_mem       box       obj       cls     total    labels  img_size\n",
            "    65/249     5.76G   0.04647   0.05501  0.007681    0.1092        46       640\n",
            "               Class      Images      Labels           P           R      mAP@.5\n",
            "                 all         724        5220       0.956       0.873       0.942       0.621\n",
            "\n",
            "     Epoch   gpu_mem       box       obj       cls     total    labels  img_size\n",
            "    66/249     5.76G   0.04634    0.0543  0.007289    0.1079        53       640\n",
            "               Class      Images      Labels           P           R      mAP@.5\n",
            "                 all         724        5220       0.945       0.874        0.94        0.62\n",
            "\n",
            "     Epoch   gpu_mem       box       obj       cls     total    labels  img_size\n",
            "    67/249     5.76G   0.04647   0.05532  0.007653    0.1094        55       640\n",
            "               Class      Images      Labels           P           R      mAP@.5\n",
            "                 all         724        5220       0.943        0.88       0.939       0.623\n",
            "\n",
            "     Epoch   gpu_mem       box       obj       cls     total    labels  img_size\n",
            "    68/249     5.76G   0.04639   0.05488  0.007538    0.1088        75       640\n",
            "               Class      Images      Labels           P           R      mAP@.5\n",
            "                 all         724        5220       0.939       0.875       0.944       0.623\n",
            "\n",
            "     Epoch   gpu_mem       box       obj       cls     total    labels  img_size\n",
            "    69/249     5.76G   0.04603   0.05501  0.007548    0.1086        32       640\n",
            "               Class      Images      Labels           P           R      mAP@.5\n",
            "                 all         724        5220       0.954        0.88       0.945        0.62\n",
            "\n",
            "     Epoch   gpu_mem       box       obj       cls     total    labels  img_size\n",
            "    70/249     5.76G   0.04589   0.05474  0.007393     0.108        64       640\n",
            "               Class      Images      Labels           P           R      mAP@.5\n",
            "                 all         724        5220        0.94         0.9       0.946       0.629\n",
            "\n",
            "     Epoch   gpu_mem       box       obj       cls     total    labels  img_size\n",
            "    71/249     5.76G   0.04643   0.05356  0.007545    0.1075        54       640\n",
            "               Class      Images      Labels           P           R      mAP@.5\n",
            "                 all         724        5220        0.94         0.9        0.95       0.641\n",
            "\n",
            "     Epoch   gpu_mem       box       obj       cls     total    labels  img_size\n",
            "    72/249     5.76G   0.04593   0.05534  0.007453    0.1087        37       640\n",
            "               Class      Images      Labels           P           R      mAP@.5\n",
            "                 all         724        5220       0.945       0.903       0.952        0.64\n",
            "\n",
            "     Epoch   gpu_mem       box       obj       cls     total    labels  img_size\n",
            "    73/249     5.76G   0.04566   0.05337  0.007278    0.1063        68       640\n",
            "               Class      Images      Labels           P           R      mAP@.5\n",
            "                 all         724        5220       0.945       0.913       0.953       0.645\n",
            "\n",
            "     Epoch   gpu_mem       box       obj       cls     total    labels  img_size\n",
            "    74/249     5.76G   0.04563   0.05371  0.007254    0.1066       126       640\n",
            "               Class      Images      Labels           P           R      mAP@.5\n",
            "                 all         724        5220       0.931        0.92       0.953       0.648\n",
            "\n",
            "     Epoch   gpu_mem       box       obj       cls     total    labels  img_size\n",
            "    75/249     5.76G   0.04563   0.05384  0.007214    0.1067        49       640\n",
            "               Class      Images      Labels           P           R      mAP@.5\n",
            "                 all         724        5220       0.939       0.906       0.953       0.643\n",
            "\n",
            "     Epoch   gpu_mem       box       obj       cls     total    labels  img_size\n",
            "    76/249     5.76G   0.04557   0.05258  0.007319    0.1055        48       640\n",
            "               Class      Images      Labels           P           R      mAP@.5\n",
            "                 all         724        5220       0.958       0.906       0.955       0.647\n",
            "\n",
            "     Epoch   gpu_mem       box       obj       cls     total    labels  img_size\n",
            "    77/249     5.76G   0.04515   0.05318  0.007128    0.1055        28       640\n",
            "               Class      Images      Labels           P           R      mAP@.5\n",
            "                 all         724        5220       0.949       0.922       0.957       0.652\n",
            "\n",
            "     Epoch   gpu_mem       box       obj       cls     total    labels  img_size\n",
            "    78/249     5.76G     0.045   0.05219  0.007152    0.1043        48       640\n",
            "               Class      Images      Labels           P           R      mAP@.5\n",
            "                 all         724        5220        0.96       0.907       0.957        0.65\n",
            "\n",
            "     Epoch   gpu_mem       box       obj       cls     total    labels  img_size\n",
            "    79/249     5.76G   0.04509   0.05273  0.006957    0.1048        36       640\n",
            "               Class      Images      Labels           P           R      mAP@.5\n",
            "                 all         724        5220       0.955       0.895       0.951       0.648\n",
            "\n",
            "     Epoch   gpu_mem       box       obj       cls     total    labels  img_size\n",
            "    80/249     5.76G   0.04479   0.05219  0.007087    0.1041       120       640\n",
            "               Class      Images      Labels           P           R      mAP@.5\n",
            "                 all         724        5220       0.945       0.919       0.954       0.652\n",
            "\n",
            "     Epoch   gpu_mem       box       obj       cls     total    labels  img_size\n",
            "    81/249     5.76G   0.04496   0.05182  0.006908    0.1037        70       640\n",
            "               Class      Images      Labels           P           R      mAP@.5\n",
            "                 all         724        5220        0.96       0.919       0.959       0.662\n",
            "\n",
            "     Epoch   gpu_mem       box       obj       cls     total    labels  img_size\n",
            "    82/249     5.76G   0.04461   0.05169  0.007086    0.1034        52       640\n",
            "               Class      Images      Labels           P           R      mAP@.5\n",
            "                 all         724        5220       0.961       0.909       0.956       0.656\n",
            "\n",
            "     Epoch   gpu_mem       box       obj       cls     total    labels  img_size\n",
            "    83/249     5.76G   0.04441   0.05206  0.006889    0.1034        38       640\n",
            "               Class      Images      Labels           P           R      mAP@.5\n",
            "                 all         724        5220       0.962       0.915        0.96       0.661\n",
            "\n",
            "     Epoch   gpu_mem       box       obj       cls     total    labels  img_size\n",
            "    84/249     5.76G   0.04413    0.0514  0.006877    0.1024        54       640\n",
            "               Class      Images      Labels           P           R      mAP@.5\n",
            "                 all         724        5220       0.962       0.915       0.959       0.669\n",
            "\n",
            "     Epoch   gpu_mem       box       obj       cls     total    labels  img_size\n",
            "    85/249     5.76G   0.04396   0.05204  0.006813    0.1028       106       640\n",
            "               Class      Images      Labels           P           R      mAP@.5\n",
            "                 all         724        5220       0.967       0.911       0.961        0.67\n",
            "\n",
            "     Epoch   gpu_mem       box       obj       cls     total    labels  img_size\n",
            "    86/249     5.76G   0.04413   0.05147   0.00672    0.1023        65       640\n",
            "               Class      Images      Labels           P           R      mAP@.5\n",
            "                 all         724        5220        0.95       0.922       0.961       0.675\n",
            "\n",
            "     Epoch   gpu_mem       box       obj       cls     total    labels  img_size\n",
            "    87/249     5.76G   0.04375   0.05161  0.006765    0.1021        83       640\n",
            "               Class      Images      Labels           P           R      mAP@.5\n",
            "                 all         724        5220       0.966       0.917       0.962       0.675\n",
            "\n",
            "     Epoch   gpu_mem       box       obj       cls     total    labels  img_size\n",
            "    88/249     5.76G   0.04358   0.05057  0.006744    0.1009        71       640\n",
            "               Class      Images      Labels           P           R      mAP@.5\n",
            "                 all         724        5220        0.97       0.912       0.963       0.673\n",
            "\n",
            "     Epoch   gpu_mem       box       obj       cls     total    labels  img_size\n",
            "    89/249     5.76G   0.04352   0.05132  0.006477    0.1013        57       640\n",
            "               Class      Images      Labels           P           R      mAP@.5\n",
            "                 all         724        5220        0.96       0.917       0.961       0.682\n",
            "\n",
            "     Epoch   gpu_mem       box       obj       cls     total    labels  img_size\n",
            "    90/249     5.76G    0.0435   0.05114  0.006657    0.1013        71       640\n",
            "               Class      Images      Labels           P           R      mAP@.5\n",
            "                 all         724        5220       0.966       0.923       0.963        0.68\n",
            "\n",
            "     Epoch   gpu_mem       box       obj       cls     total    labels  img_size\n",
            "    91/249     5.76G    0.0434   0.05088  0.006542    0.1008        84       640\n",
            "               Class      Images      Labels           P           R      mAP@.5\n",
            "                 all         724        5220       0.964       0.922       0.964       0.682\n",
            "\n",
            "     Epoch   gpu_mem       box       obj       cls     total    labels  img_size\n",
            "    92/249     5.76G   0.04361   0.05064  0.006724     0.101        71       640\n",
            "               Class      Images      Labels           P           R      mAP@.5\n",
            "                 all         724        5220       0.958       0.924       0.966       0.682\n",
            "\n",
            "     Epoch   gpu_mem       box       obj       cls     total    labels  img_size\n",
            "    93/249     5.76G   0.04356   0.04993  0.006646    0.1001        68       640\n",
            "               Class      Images      Labels           P           R      mAP@.5\n",
            "                 all         724        5220        0.97       0.913       0.965       0.677\n",
            "\n",
            "     Epoch   gpu_mem       box       obj       cls     total    labels  img_size\n",
            "    94/249     5.76G   0.04297   0.05084  0.006469    0.1003        68       640\n",
            "               Class      Images      Labels           P           R      mAP@.5\n",
            "                 all         724        5220       0.965       0.922       0.967       0.689\n",
            "\n",
            "     Epoch   gpu_mem       box       obj       cls     total    labels  img_size\n",
            "    95/249     5.76G   0.04309   0.05059  0.006517    0.1002        71       640\n",
            "               Class      Images      Labels           P           R      mAP@.5\n",
            "                 all         724        5220       0.964       0.933       0.967       0.692\n",
            "\n",
            "     Epoch   gpu_mem       box       obj       cls     total    labels  img_size\n",
            "    96/249     5.76G   0.04293    0.0503  0.006539   0.09977        51       640\n",
            "               Class      Images      Labels           P           R      mAP@.5\n",
            "                 all         724        5220       0.973       0.922       0.968       0.687\n",
            "\n",
            "     Epoch   gpu_mem       box       obj       cls     total    labels  img_size\n",
            "    97/249     5.76G   0.04315   0.05131  0.006511     0.101        67       640\n",
            "               Class      Images      Labels           P           R      mAP@.5\n",
            "                 all         724        5220       0.955       0.926       0.966       0.692\n",
            "\n",
            "     Epoch   gpu_mem       box       obj       cls     total    labels  img_size\n",
            "    98/249     5.76G    0.0429   0.05019  0.006436   0.09953        39       640\n",
            "               Class      Images      Labels           P           R      mAP@.5\n",
            "                 all         724        5220       0.961       0.926       0.966       0.688\n",
            "\n",
            "     Epoch   gpu_mem       box       obj       cls     total    labels  img_size\n",
            "    99/249     5.76G   0.04271   0.04995  0.006362   0.09902        73       640\n",
            "               Class      Images      Labels           P           R      mAP@.5\n",
            "                 all         724        5220       0.964       0.926       0.968       0.694\n",
            "\n",
            "     Epoch   gpu_mem       box       obj       cls     total    labels  img_size\n",
            "   100/249     5.76G    0.0428   0.04947  0.006277   0.09855        98       640\n",
            "               Class      Images      Labels           P           R      mAP@.5\n",
            "                 all         724        5220       0.959       0.939       0.969       0.695\n",
            "\n",
            "     Epoch   gpu_mem       box       obj       cls     total    labels  img_size\n",
            "   101/249     5.76G   0.04258   0.05002  0.006397     0.099        52       640\n",
            "               Class      Images      Labels           P           R      mAP@.5\n",
            "                 all         724        5220       0.959       0.937       0.968       0.692\n",
            "\n",
            "     Epoch   gpu_mem       box       obj       cls     total    labels  img_size\n",
            "   102/249     5.76G   0.04241   0.04915   0.00635   0.09791        75       640\n",
            "               Class      Images      Labels           P           R      mAP@.5\n",
            "                 all         724        5220       0.966       0.926       0.969       0.699\n",
            "\n",
            "     Epoch   gpu_mem       box       obj       cls     total    labels  img_size\n",
            "   103/249     5.76G   0.04213   0.04907  0.006178   0.09738        41       640\n",
            "               Class      Images      Labels           P           R      mAP@.5\n",
            "                 all         724        5220       0.969       0.939        0.97       0.697\n",
            "\n",
            "     Epoch   gpu_mem       box       obj       cls     total    labels  img_size\n",
            "   104/249     5.76G   0.04214   0.04951  0.006236   0.09788        52       640\n",
            "               Class      Images      Labels           P           R      mAP@.5\n",
            "                 all         724        5220       0.949        0.94       0.969       0.701\n",
            "\n",
            "     Epoch   gpu_mem       box       obj       cls     total    labels  img_size\n",
            "   105/249     5.76G     0.042   0.04945  0.006182   0.09763        41       640\n",
            "               Class      Images      Labels           P           R      mAP@.5\n",
            "                 all         724        5220       0.956       0.946       0.972       0.707\n",
            "\n",
            "     Epoch   gpu_mem       box       obj       cls     total    labels  img_size\n",
            "   106/249     5.76G   0.04197   0.04934  0.006239   0.09755        78       640\n",
            "               Class      Images      Labels           P           R      mAP@.5\n",
            "                 all         724        5220       0.974       0.928        0.97       0.707\n",
            "\n",
            "     Epoch   gpu_mem       box       obj       cls     total    labels  img_size\n",
            "   107/249     5.76G   0.04188   0.04938  0.006101   0.09735       107       640\n",
            "               Class      Images      Labels           P           R      mAP@.5\n",
            "                 all         724        5220       0.967       0.942       0.973       0.711\n",
            "\n",
            "     Epoch   gpu_mem       box       obj       cls     total    labels  img_size\n",
            "   108/249     5.76G   0.04224   0.04977   0.00644   0.09846        31       640\n",
            "               Class      Images      Labels           P           R      mAP@.5\n",
            "                 all         724        5220       0.969       0.942       0.973       0.706\n",
            "\n",
            "     Epoch   gpu_mem       box       obj       cls     total    labels  img_size\n",
            "   109/249     5.76G   0.04186   0.04908  0.006069   0.09701        29       640\n",
            "               Class      Images      Labels           P           R      mAP@.5\n",
            "                 all         724        5220       0.974       0.935       0.973       0.711\n",
            "\n",
            "     Epoch   gpu_mem       box       obj       cls     total    labels  img_size\n",
            "   110/249     5.76G   0.04152    0.0477  0.006118   0.09534        45       640\n",
            "               Class      Images      Labels           P           R      mAP@.5\n",
            "                 all         724        5220       0.973       0.934       0.974       0.712\n",
            "\n",
            "     Epoch   gpu_mem       box       obj       cls     total    labels  img_size\n",
            "   111/249     5.76G   0.04112   0.04804  0.006099   0.09526        68       640\n",
            "               Class      Images      Labels           P           R      mAP@.5\n",
            "                 all         724        5220       0.969       0.943       0.975       0.714\n",
            "\n",
            "     Epoch   gpu_mem       box       obj       cls     total    labels  img_size\n",
            "   112/249     5.76G   0.04156   0.04858  0.006232   0.09637        57       640\n",
            "               Class      Images      Labels           P           R      mAP@.5\n",
            "                 all         724        5220       0.979       0.933       0.973       0.713\n",
            "\n",
            "     Epoch   gpu_mem       box       obj       cls     total    labels  img_size\n",
            "   113/249     5.76G   0.04143   0.04861  0.006076   0.09612        73       640\n",
            "               Class      Images      Labels           P           R      mAP@.5\n",
            "                 all         724        5220       0.972       0.942       0.975       0.717\n",
            "\n",
            "     Epoch   gpu_mem       box       obj       cls     total    labels  img_size\n",
            "   114/249     5.76G   0.04123   0.04853  0.006021   0.09578        47       640\n",
            "               Class      Images      Labels           P           R      mAP@.5\n",
            "                 all         724        5220        0.97       0.937       0.972       0.712\n",
            "\n",
            "     Epoch   gpu_mem       box       obj       cls     total    labels  img_size\n",
            "   115/249     5.76G   0.04114   0.04906  0.006147   0.09635        47       640\n",
            "               Class      Images      Labels           P           R      mAP@.5\n",
            "                 all         724        5220       0.975       0.931       0.973       0.714\n",
            "\n",
            "     Epoch   gpu_mem       box       obj       cls     total    labels  img_size\n",
            "   116/249     5.76G   0.04127   0.04809  0.006055   0.09542        40       640\n",
            "               Class      Images      Labels           P           R      mAP@.5\n",
            "                 all         724        5220       0.968       0.942       0.973       0.726\n",
            "\n",
            "     Epoch   gpu_mem       box       obj       cls     total    labels  img_size\n",
            "   117/249     5.76G    0.0407   0.04788  0.005905   0.09449        86       640\n",
            "               Class      Images      Labels           P           R      mAP@.5\n",
            "                 all         724        5220       0.972       0.942       0.974        0.72\n",
            "\n",
            "     Epoch   gpu_mem       box       obj       cls     total    labels  img_size\n",
            "   118/249     5.76G   0.04125   0.04919  0.006051   0.09649        45       640\n",
            "               Class      Images      Labels           P           R      mAP@.5\n",
            "                 all         724        5220       0.965       0.951       0.975       0.728\n",
            "\n",
            "     Epoch   gpu_mem       box       obj       cls     total    labels  img_size\n",
            "   119/249     5.76G   0.04079   0.04885  0.005936   0.09558        55       640\n",
            "               Class      Images      Labels           P           R      mAP@.5\n",
            "                 all         724        5220       0.975       0.938       0.974       0.723\n",
            "\n",
            "     Epoch   gpu_mem       box       obj       cls     total    labels  img_size\n",
            "   120/249     5.76G   0.04076   0.04731  0.005937     0.094        45       640\n",
            "               Class      Images      Labels           P           R      mAP@.5\n",
            "                 all         724        5220       0.971       0.944       0.975       0.725\n",
            "\n",
            "     Epoch   gpu_mem       box       obj       cls     total    labels  img_size\n",
            "   121/249     5.76G    0.0405   0.04676  0.005876   0.09313        25       640\n",
            "               Class      Images      Labels           P           R      mAP@.5\n",
            "                 all         724        5220       0.969       0.949       0.976       0.726\n",
            "\n",
            "     Epoch   gpu_mem       box       obj       cls     total    labels  img_size\n",
            "   122/249     5.76G   0.04036   0.04693  0.005878   0.09316        29       640\n",
            "               Class      Images      Labels           P           R      mAP@.5\n",
            "                 all         724        5220       0.969        0.95       0.977       0.731\n",
            "\n",
            "     Epoch   gpu_mem       box       obj       cls     total    labels  img_size\n",
            "   123/249     5.76G    0.0404   0.04772  0.005775    0.0939       118       640\n",
            "               Class      Images      Labels           P           R      mAP@.5\n",
            "                 all         724        5220       0.977       0.945       0.976        0.73\n",
            "\n",
            "     Epoch   gpu_mem       box       obj       cls     total    labels  img_size\n",
            "   124/249     5.76G   0.04089   0.04839  0.005892   0.09517        54       640\n",
            "               Class      Images      Labels           P           R      mAP@.5\n",
            "                 all         724        5220       0.978       0.945       0.978       0.734\n",
            "\n",
            "     Epoch   gpu_mem       box       obj       cls     total    labels  img_size\n",
            "   125/249     5.76G   0.04051   0.04777   0.00584   0.09412        67       640\n",
            "               Class      Images      Labels           P           R      mAP@.5\n",
            "                 all         724        5220       0.974       0.949       0.977       0.733\n",
            "\n",
            "     Epoch   gpu_mem       box       obj       cls     total    labels  img_size\n",
            "   126/249     5.76G   0.04038   0.04813  0.005865   0.09438        77       640\n",
            "               Class      Images      Labels           P           R      mAP@.5\n",
            "                 all         724        5220       0.972       0.951       0.977       0.734\n",
            "\n",
            "     Epoch   gpu_mem       box       obj       cls     total    labels  img_size\n",
            "   127/249     5.76G    0.0403   0.04746  0.005897   0.09366        49       640\n",
            "               Class      Images      Labels           P           R      mAP@.5\n",
            "                 all         724        5220       0.976       0.947       0.978       0.734\n",
            "\n",
            "     Epoch   gpu_mem       box       obj       cls     total    labels  img_size\n",
            "   128/249     5.76G   0.04016   0.04631  0.005798   0.09227        45       640\n",
            "               Class      Images      Labels           P           R      mAP@.5\n",
            "                 all         724        5220       0.969       0.951       0.978       0.733\n",
            "\n",
            "     Epoch   gpu_mem       box       obj       cls     total    labels  img_size\n",
            "   129/249     5.76G   0.04018   0.04728  0.005891   0.09336        73       640\n",
            "               Class      Images      Labels           P           R      mAP@.5\n",
            "                 all         724        5220       0.971       0.952       0.978       0.738\n",
            "\n",
            "     Epoch   gpu_mem       box       obj       cls     total    labels  img_size\n",
            "   130/249     5.76G   0.03993    0.0472  0.005836   0.09296        87       640\n",
            "               Class      Images      Labels           P           R      mAP@.5\n",
            "                 all         724        5220       0.968       0.953       0.978       0.742\n",
            "\n",
            "     Epoch   gpu_mem       box       obj       cls     total    labels  img_size\n",
            "   131/249     5.76G   0.03978   0.04623  0.005882   0.09189        63       640\n",
            "               Class      Images      Labels           P           R      mAP@.5\n",
            "                 all         724        5220       0.968       0.958       0.978       0.744\n",
            "\n",
            "     Epoch   gpu_mem       box       obj       cls     total    labels  img_size\n",
            "   132/249     5.76G   0.03985   0.04652  0.005768   0.09214        56       640\n",
            "               Class      Images      Labels           P           R      mAP@.5\n",
            "                 all         724        5220        0.98       0.946        0.98       0.745\n",
            "\n",
            "     Epoch   gpu_mem       box       obj       cls     total    labels  img_size\n",
            "   133/249     5.76G   0.03969   0.04725  0.005741   0.09268       126       640\n",
            "               Class      Images      Labels           P           R      mAP@.5\n",
            "                 all         724        5220       0.982       0.946       0.979       0.746\n",
            "\n",
            "     Epoch   gpu_mem       box       obj       cls     total    labels  img_size\n",
            "   134/249     5.76G   0.03929   0.04566  0.005572   0.09052        41       640\n",
            "               Class      Images      Labels           P           R      mAP@.5\n",
            "                 all         724        5220       0.977        0.95       0.979       0.746\n",
            "\n",
            "     Epoch   gpu_mem       box       obj       cls     total    labels  img_size\n",
            "   135/249     5.76G   0.03976   0.04673  0.005765   0.09226        25       640\n",
            "               Class      Images      Labels           P           R      mAP@.5\n",
            "                 all         724        5220       0.978       0.952        0.98       0.746\n",
            "\n",
            "     Epoch   gpu_mem       box       obj       cls     total    labels  img_size\n",
            "   136/249     5.76G    0.0396    0.0465  0.005592    0.0917        48       640\n",
            "               Class      Images      Labels           P           R      mAP@.5\n",
            "                 all         724        5220       0.972       0.958       0.981       0.748\n",
            "\n",
            "     Epoch   gpu_mem       box       obj       cls     total    labels  img_size\n",
            "   137/249     5.76G   0.03905   0.04543  0.005616   0.09009        82       640\n",
            "               Class      Images      Labels           P           R      mAP@.5\n",
            "                 all         724        5220       0.985       0.947       0.981       0.748\n",
            "\n",
            "     Epoch   gpu_mem       box       obj       cls     total    labels  img_size\n",
            "   138/249     5.76G   0.03932   0.04633  0.005702   0.09135        30       640\n",
            "               Class      Images      Labels           P           R      mAP@.5\n",
            "                 all         724        5220       0.978       0.951        0.98       0.748\n",
            "\n",
            "     Epoch   gpu_mem       box       obj       cls     total    labels  img_size\n",
            "   139/249     5.76G   0.03943   0.04629  0.005702   0.09142       112       640\n",
            "               Class      Images      Labels           P           R      mAP@.5\n",
            "                 all         724        5220       0.969       0.959       0.981       0.751\n",
            "\n",
            "     Epoch   gpu_mem       box       obj       cls     total    labels  img_size\n",
            "   140/249     5.76G   0.03922   0.04568  0.005617   0.09053        53       640\n",
            "               Class      Images      Labels           P           R      mAP@.5\n",
            "                 all         724        5220       0.977       0.956       0.981       0.751\n",
            "\n",
            "     Epoch   gpu_mem       box       obj       cls     total    labels  img_size\n",
            "   141/249     5.76G   0.03869   0.04494  0.005396   0.08902        39       640\n",
            "               Class      Images      Labels           P           R      mAP@.5\n",
            "                 all         724        5220        0.98       0.954       0.981       0.752\n",
            "\n",
            "     Epoch   gpu_mem       box       obj       cls     total    labels  img_size\n",
            "   142/249     5.76G   0.03905   0.04564  0.005561   0.09026        67       640\n",
            "               Class      Images      Labels           P           R      mAP@.5\n",
            "                 all         724        5220       0.972        0.96       0.981       0.754\n",
            "\n",
            "     Epoch   gpu_mem       box       obj       cls     total    labels  img_size\n",
            "   143/249     5.76G   0.03877   0.04554  0.005367   0.08968        55       640\n",
            "               Class      Images      Labels           P           R      mAP@.5\n",
            "                 all         724        5220       0.976       0.955       0.981       0.758\n",
            "\n",
            "     Epoch   gpu_mem       box       obj       cls     total    labels  img_size\n",
            "   144/249     5.76G   0.03891   0.04548  0.005612      0.09        33       640\n",
            "               Class      Images      Labels           P           R      mAP@.5\n",
            "                 all         724        5220       0.978       0.955       0.981       0.757\n",
            "\n",
            "     Epoch   gpu_mem       box       obj       cls     total    labels  img_size\n",
            "   145/249     5.76G   0.03882   0.04461  0.005518   0.08894        57       640\n",
            "               Class      Images      Labels           P           R      mAP@.5\n",
            "                 all         724        5220       0.977        0.96       0.981        0.76\n",
            "\n",
            "     Epoch   gpu_mem       box       obj       cls     total    labels  img_size\n",
            "   146/249     5.76G   0.03859   0.04565  0.005476   0.08972        73       640\n",
            "               Class      Images      Labels           P           R      mAP@.5\n",
            "                 all         724        5220       0.974        0.96       0.981       0.763\n",
            "\n",
            "     Epoch   gpu_mem       box       obj       cls     total    labels  img_size\n",
            "   147/249     5.76G   0.03868   0.04564  0.005346   0.08966       112       640\n",
            "               Class      Images      Labels           P           R      mAP@.5\n",
            "                 all         724        5220       0.976       0.959       0.982       0.765\n",
            "\n",
            "     Epoch   gpu_mem       box       obj       cls     total    labels  img_size\n",
            "   148/249     5.76G   0.03861   0.04534  0.005396   0.08935        37       640\n",
            "               Class      Images      Labels           P           R      mAP@.5\n",
            "                 all         724        5220       0.977       0.957       0.982       0.764\n",
            "\n",
            "     Epoch   gpu_mem       box       obj       cls     total    labels  img_size\n",
            "   149/249     5.76G   0.03845   0.04485  0.005392    0.0887        45       640\n",
            "               Class      Images      Labels           P           R      mAP@.5\n",
            "                 all         724        5220       0.979        0.96       0.982       0.764\n",
            "\n",
            "     Epoch   gpu_mem       box       obj       cls     total    labels  img_size\n",
            "   150/249     5.76G   0.03851   0.04692  0.005498   0.09093        98       640\n",
            "               Class      Images      Labels           P           R      mAP@.5\n",
            "                 all         724        5220       0.985       0.952       0.982       0.768\n",
            "\n",
            "     Epoch   gpu_mem       box       obj       cls     total    labels  img_size\n",
            "   151/249     5.76G   0.03847    0.0433  0.005381   0.08715        16       640\n",
            "               Class      Images      Labels           P           R      mAP@.5\n",
            "                 all         724        5220       0.979        0.96       0.982       0.766\n",
            "\n",
            "     Epoch   gpu_mem       box       obj       cls     total    labels  img_size\n",
            "   152/249     5.76G   0.03838   0.04466   0.00541   0.08845       107       640\n",
            "               Class      Images      Labels           P           R      mAP@.5\n",
            "                 all         724        5220       0.977       0.961       0.982       0.768\n",
            "\n",
            "     Epoch   gpu_mem       box       obj       cls     total    labels  img_size\n",
            "   153/249     5.76G   0.03814   0.04466  0.005414   0.08821        80       640\n",
            "               Class      Images      Labels           P           R      mAP@.5\n",
            "                 all         724        5220       0.982       0.956       0.981       0.768\n",
            "\n",
            "     Epoch   gpu_mem       box       obj       cls     total    labels  img_size\n",
            "   154/249     5.76G   0.03791   0.04404  0.005396   0.08734        34       640\n",
            "               Class      Images      Labels           P           R      mAP@.5\n",
            "                 all         724        5220       0.982       0.958       0.982        0.77\n",
            "\n",
            "     Epoch   gpu_mem       box       obj       cls     total    labels  img_size\n",
            "   155/249     5.76G   0.03822    0.0451  0.005458   0.08878        86       640\n",
            "               Class      Images      Labels           P           R      mAP@.5\n",
            "                 all         724        5220       0.986       0.952       0.981       0.767\n",
            "\n",
            "     Epoch   gpu_mem       box       obj       cls     total    labels  img_size\n",
            "   156/249     5.76G   0.03812   0.04465  0.005353   0.08813        37       640\n",
            "               Class      Images      Labels           P           R      mAP@.5\n",
            "                 all         724        5220       0.978        0.96       0.981       0.767\n",
            "\n",
            "     Epoch   gpu_mem       box       obj       cls     total    labels  img_size\n",
            "   157/249     5.76G   0.03744   0.04353  0.005268   0.08624        30       640\n",
            "               Class      Images      Labels           P           R      mAP@.5\n",
            "                 all         724        5220        0.98        0.96       0.982       0.773\n",
            "\n",
            "     Epoch   gpu_mem       box       obj       cls     total    labels  img_size\n",
            "   158/249     5.76G    0.0379   0.04397  0.005262   0.08713        49       640\n",
            "               Class      Images      Labels           P           R      mAP@.5\n",
            "                 all         724        5220       0.981       0.957       0.982       0.773\n",
            "\n",
            "     Epoch   gpu_mem       box       obj       cls     total    labels  img_size\n",
            "   159/249     5.76G   0.03777   0.04398   0.00538   0.08712        38       640\n",
            "               Class      Images      Labels           P           R      mAP@.5\n",
            "                 all         724        5220       0.979        0.96       0.982       0.775\n",
            "\n",
            "     Epoch   gpu_mem       box       obj       cls     total    labels  img_size\n",
            "   160/249     5.76G   0.03772   0.04371  0.005319   0.08674        70       640\n",
            "               Class      Images      Labels           P           R      mAP@.5\n",
            "                 all         724        5220       0.977       0.962       0.983       0.776\n",
            "\n",
            "     Epoch   gpu_mem       box       obj       cls     total    labels  img_size\n",
            "   161/249     5.76G   0.03734   0.04418   0.00522   0.08674        31       640\n",
            "               Class      Images      Labels           P           R      mAP@.5\n",
            "                 all         724        5220       0.981       0.962       0.983       0.775\n",
            "\n",
            "     Epoch   gpu_mem       box       obj       cls     total    labels  img_size\n",
            "   162/249     5.76G   0.03761   0.04363    0.0053   0.08654        71       640\n",
            "               Class      Images      Labels           P           R      mAP@.5\n",
            "                 all         724        5220       0.981       0.963       0.983       0.775\n",
            "\n",
            "     Epoch   gpu_mem       box       obj       cls     total    labels  img_size\n",
            "   163/249     5.76G   0.03775   0.04434   0.00517   0.08726        26       640\n",
            "               Class      Images      Labels           P           R      mAP@.5\n",
            "                 all         724        5220       0.986       0.958       0.983       0.776\n",
            "\n",
            "     Epoch   gpu_mem       box       obj       cls     total    labels  img_size\n",
            "   164/249     5.76G   0.03729   0.04401  0.005355   0.08666        50       640\n",
            "               Class      Images      Labels           P           R      mAP@.5\n",
            "                 all         724        5220       0.978       0.965       0.983       0.776\n",
            "\n",
            "     Epoch   gpu_mem       box       obj       cls     total    labels  img_size\n",
            "   165/249     5.76G   0.03724   0.04337  0.005053   0.08566        92       640\n",
            "               Class      Images      Labels           P           R      mAP@.5\n",
            "                 all         724        5220       0.977       0.965       0.983       0.778\n",
            "\n",
            "     Epoch   gpu_mem       box       obj       cls     total    labels  img_size\n",
            "   166/249     5.76G   0.03698   0.04333  0.005045   0.08536        30       640\n",
            "               Class      Images      Labels           P           R      mAP@.5"
          ],
          "name": "stdout"
        }
      ]
    },
    {
      "cell_type": "markdown",
      "metadata": {
        "id": "Xc3WQF89K-MU"
      },
      "source": [
        "The weights obtained by training are saved in */content/runs/train/exp/weights/best.pt* so, we can make a backup of these results using the script under this section"
      ]
    },
    {
      "cell_type": "code",
      "metadata": {
        "id": "AZzCnNhNeSOj"
      },
      "source": [
        "# it makes a copy of the results obtained during the training in '/content/drive/MyDrive/best.pt'\n",
        "%%shell\n",
        "NAME=$DATASET\n",
        "EXT=$SET\n",
        "cp /content/yolov5/YOLOv5/\"$NAME\"_\"$EXT\"/weights/best.pt /content/drive/MyDrive/SistemiDigitali/pesi/\"$NAME\"_\"$EXT\".pt"
      ],
      "execution_count": null,
      "outputs": []
    },
    {
      "cell_type": "code",
      "metadata": {
        "colab": {
          "base_uri": "https://localhost:8080/"
        },
        "id": "-K0yNrUzsK5R",
        "outputId": "b0d6037e-c031-4112-ffd1-6c5a325bb4d5"
      },
      "source": [
        "%%shell\n",
        "#change in data.yaml val: PATH with testset PATH\n",
        "NAME=$DATASET\n",
        "EXT=$SET\n",
        "\n",
        "python yolov5/test.py --weights /content/yolov5/YOLOv5/\"$NAME\"_\"$EXT\"/weights/best.pt --data \"$NAME\"/data.yaml --img-size $ISIZE"
      ],
      "execution_count": null,
      "outputs": [
        {
          "output_type": "stream",
          "text": [
            "Namespace(augment=False, batch_size=32, conf_thres=0.001, data='custom_dt/data.yaml', device='', exist_ok=False, img_size=320, iou_thres=0.6, name='exp', project='runs/test', save_conf=False, save_hybrid=False, save_json=False, save_txt=False, single_cls=False, task='val', verbose=False, weights=['/content/yolov5/YOLOv5/custom_dt_b32i320/weights/best.pt'])\n",
            "\u001b[31m\u001b[1mrequirements:\u001b[0m /content/requirements.txt not found, check failed.\n",
            "YOLOv5 🚀 v5.0-59-g31ee54c torch 1.8.1+cu101 CUDA:0 (Tesla T4, 15109.75MB)\n",
            "\n",
            "Fusing layers... \n",
            "Model Summary: 224 layers, 7056607 parameters, 0 gradients, 16.3 GFLOPS\n",
            "\u001b[34m\u001b[1mval: \u001b[0mScanning '/content/custom_dt/test/labels' images and labels... 860 found, 0 missing, 0 empty, 0 corrupted: 100% 860/860 [00:01<00:00, 727.66it/s]\n",
            "\u001b[34m\u001b[1mval: \u001b[0mNew cache created: /content/custom_dt/test/labels.cache\n",
            "               Class      Images      Labels           P           R      mAP@.5  mAP@.5:.95: 100% 27/27 [00:25<00:00,  1.04it/s]\n",
            "                 all         860        1364       0.986       0.967       0.988       0.834\n",
            "               doors         860         824       0.974        0.97        0.99       0.877\n",
            "              handle         860         540       0.998       0.964       0.987       0.791\n",
            "Speed: 1.4/1.8/3.2 ms inference/NMS/total per 320x320 image at batch-size 32\n",
            "Results saved to runs/test/exp2\n"
          ],
          "name": "stdout"
        },
        {
          "output_type": "execute_result",
          "data": {
            "text/plain": [
              ""
            ]
          },
          "metadata": {
            "tags": []
          },
          "execution_count": 13
        }
      ]
    },
    {
      "cell_type": "markdown",
      "metadata": {
        "id": "IEijrePND_2I"
      },
      "source": [
        "# Appendix"
      ]
    },
    {
      "cell_type": "code",
      "metadata": {
        "id": "RVRSOhEvUdb5"
      },
      "source": [
        "# Evolve\n",
        "!python train.py --img 640 --batch 64 --epochs 100 --data coco128.yaml --weights yolov5s.pt --cache --noautoanchor --evolve"
      ],
      "execution_count": null,
      "outputs": []
    }
  ]
}